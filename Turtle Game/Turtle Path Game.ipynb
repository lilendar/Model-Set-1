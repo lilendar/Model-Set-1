{
 "cells": [
  {
   "cell_type": "code",
   "execution_count": 1,
   "metadata": {},
   "outputs": [],
   "source": [
    "import turtle"
   ]
  },
  {
   "cell_type": "code",
   "execution_count": 2,
   "metadata": {},
   "outputs": [],
   "source": [
    "win=turtle.Screen()"
   ]
  },
  {
   "cell_type": "code",
   "execution_count": 3,
   "metadata": {},
   "outputs": [],
   "source": [
    "win.bgcolor(\"lightgreen\")\n",
    "a=turtle.Turtle()\n",
    "\n",
    "a.speed(4)\n",
    "a.shape(\"turtle\")\n",
    "a.color(\"red\")\n",
    "\n",
    "i=100\n",
    "dist=5\n",
    "for j in range(10):\n",
    "    #a.stamp()\n",
    "    \n",
    "    a.forward(i)\n",
    "    a.left(90)\n",
    "    a.forward(i)\n",
    "    a.left(90)\n",
    "    a.forward(i)\n",
    "    a.left(90)\n",
    "    a.forward(i+10)\n",
    "win.exitonclick()"
   ]
  }
 ],
 "metadata": {
  "kernelspec": {
   "display_name": "Python 3",
   "language": "python",
   "name": "python3"
  },
  "language_info": {
   "codemirror_mode": {
    "name": "ipython",
    "version": 3
   },
   "file_extension": ".py",
   "mimetype": "text/x-python",
   "name": "python",
   "nbconvert_exporter": "python",
   "pygments_lexer": "ipython3",
   "version": "3.7.3"
  }
 },
 "nbformat": 4,
 "nbformat_minor": 2
}
